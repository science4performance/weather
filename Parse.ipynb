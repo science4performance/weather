{
 "cells": [
  {
   "cell_type": "markdown",
   "metadata": {},
   "source": [
    "# Parsing some HTML\n",
    "Process some HTML from https://www.timeanddate.com/weather/uk/london/climate <br>\n",
    "Generates a pandas dataframe showing annual and then monthly average temperature, pressure and humidity.\n"
   ]
  },
  {
   "cell_type": "code",
   "execution_count": 1,
   "metadata": {
    "collapsed": true
   },
   "outputs": [],
   "source": [
    "string='All Year Climate & Weather Averages in London</h3><div class=\"four columns\"><p><span class=light>High Temp: </span> 24&nbsp;°C</p><p><span class=light>Low Temp: </span> 3&nbsp;°C</p><p><span class=light>Mean Temp: </span> 12&nbsp;°C</p></div><div class=\"four columns\"><p><span class=light>Precipitation: </span> 49.7  mm</p><p><span class=light>Humidity: </span> 73%</p><p><span class=light>Dew Point: </span> 7&nbsp;°C</p></div><div class=\"four columns\"><p><span class=light>Wind: </span> 9 mph</p><p><span class=light>Pressure: </span> 1015 mbar</p><p><span class=light>Visibility: </span> 11&nbsp;km</p></div></div><div class=\"climate-month climate-month--january\"><h3 class=mgt0>January Climate & Weather Averages in London</h3><div class=\"four columns\"><p><span class=light>High Temp: </span> 8&nbsp;°C</p><p><span class=light>Low Temp: </span> 3&nbsp;°C</p><p><span class=light>Mean Temp: </span> 6&nbsp;°C</p></div><div class=\"four columns\"><p><span class=light>Precipitation: </span> 52.9  mm</p><p><span class=light>Humidity: </span> 80%</p><p><span class=light>Dew Point: </span> 3&nbsp;°C</p></div><div class=\"four columns\"><p><span class=light>Wind: </span> 10 mph</p><p><span class=light>Pressure: </span> 1015 mbar</p><p><span class=light>Visibility: </span> 11&nbsp;km</p></div></div><div class=\"climate-month climate-month--february\"><h3 class=mgt0>February Climate & Weather Averages in London</h3><div class=\"four columns\"><p><span class=light>High Temp: </span> 9&nbsp;°C</p><p><span class=light>Low Temp: </span> 3&nbsp;°C</p><p><span class=light>Mean Temp: </span> 6&nbsp;°C</p></div><div class=\"four columns\"><p><span class=light>Precipitation: </span> 47.9  mm</p><p><span class=light>Humidity: </span> 77%</p><p><span class=light>Dew Point: </span> 2&nbsp;°C</p></div><div class=\"four columns\"><p><span class=light>Wind: </span> 9 mph</p><p><span class=light>Pressure: </span> 1014 mbar</p><p><span class=light>Visibility: </span> 11&nbsp;km</p></div></div><div class=\"climate-month climate-month--march\"><h3 class=mgt0>March Climate & Weather Averages in London</h3><div class=\"four columns\"><p><span class=light>High Temp: </span> 12&nbsp;°C</p><p><span class=light>Low Temp: </span> 4&nbsp;°C</p><p><span class=light>Mean Temp: </span> 8&nbsp;°C</p></div><div class=\"four columns\"><p><span class=light>Precipitation: </span> 29.8  mm</p><p><span class=light>Humidity: </span> 70%</p><p><span class=light>Dew Point: </span> 2&nbsp;°C</p></div><div class=\"four columns\"><p><span class=light>Wind: </span> 10 mph</p><p><span class=light>Pressure: </span> 1016 mbar</p><p><span class=light>Visibility: </span> 12&nbsp;km</p></div></div><div class=\"climate-month climate-month--april\"><h3 class=mgt0>April Climate & Weather Averages in London</h3><div class=\"four columns\"><p><span class=light>High Temp: </span> 16&nbsp;°C</p><p><span class=light>Low Temp: </span> 6&nbsp;°C</p><p><span class=light>Mean Temp: </span> 11&nbsp;°C</p></div><div class=\"four columns\"><p><span class=light>Precipitation: </span> 30.6  mm</p><p><span class=light>Humidity: </span> 65%</p><p><span class=light>Dew Point: </span> 4&nbsp;°C</p></div><div class=\"four columns\"><p><span class=light>Wind: </span> 9 mph</p><p><span class=light>Pressure: </span> 1016 mbar</p><p><span class=light>Visibility: </span> 12&nbsp;km</p></div></div><div class=\"climate-month climate-month--may\"><h3 class=mgt0>May Climate & Weather Averages in London</h3><div class=\"four columns\"><p><span class=light>High Temp: </span> 18&nbsp;°C</p><p><span class=light>Low Temp: </span> 9&nbsp;°C</p><p><span class=light>Mean Temp: </span> 14&nbsp;°C</p></div><div class=\"four columns\"><p><span class=light>Precipitation: </span> 52.1  mm</p><p><span class=light>Humidity: </span> 67%</p><p><span class=light>Dew Point: </span> 7&nbsp;°C</p></div><div class=\"four columns\"><p><span class=light>Wind: </span> 9 mph</p><p><span class=light>Pressure: </span> 1015 mbar</p><p><span class=light>Visibility: </span> 12&nbsp;km</p></div></div><div class=\"climate-month climate-month--june\"><h3 class=mgt0>June Climate & Weather Averages in London</h3><div class=\"four columns\"><p><span class=light>High Temp: </span> 21&nbsp;°C</p><p><span class=light>Low Temp: </span> 12&nbsp;°C</p><p><span class=light>Mean Temp: </span> 17&nbsp;°C</p></div><div class=\"four columns\"><p><span class=light>Precipitation: </span> 35.0  mm</p><p><span class=light>Humidity: </span> 65%</p><p><span class=light>Dew Point: </span> 10&nbsp;°C</p></div><div class=\"four columns\"><p><span class=light>Wind: </span> 9 mph</p><p><span class=light>Pressure: </span> 1017 mbar</p><p><span class=light>Visibility: </span> 12&nbsp;km</p></div></div><div class=\"climate-month climate-month--july\"><h3 class=mgt0>July Climate & Weather Averages in London</h3><div class=\"four columns\"><p><span class=light>High Temp: </span> 24&nbsp;°C</p><p><span class=light>Low Temp: </span> 14&nbsp;°C</p><p><span class=light>Mean Temp: </span> 19&nbsp;°C</p></div><div class=\"four columns\"><p><span class=light>Precipitation: </span> 51.0  mm</p><p><span class=light>Humidity: </span> 65%</p><p><span class=light>Dew Point: </span> 12&nbsp;°C</p></div><div class=\"four columns\"><p><span class=light>Wind: </span> 9 mph</p><p><span class=light>Pressure: </span> 1015 mbar</p><p><span class=light>Visibility: </span> 12&nbsp;km</p></div></div><div class=\"climate-month climate-month--august\"><h3 class=mgt0>August Climate & Weather Averages in London</h3><div class=\"four columns\"><p><span class=light>High Temp: </span> 22&nbsp;°C</p><p><span class=light>Low Temp: </span> 14&nbsp;°C</p><p><span class=light>Mean Temp: </span> 18&nbsp;°C</p></div><div class=\"four columns\"><p><span class=light>Precipitation: </span> 57.5  mm</p><p><span class=light>Humidity: </span> 69%</p><p><span class=light>Dew Point: </span> 12&nbsp;°C</p></div><div class=\"four columns\"><p><span class=light>Wind: </span> 8 mph</p><p><span class=light>Pressure: </span> 1014 mbar</p><p><span class=light>Visibility: </span> 12&nbsp;km</p></div></div><div class=\"climate-month climate-month--september\"><h3 class=mgt0>September Climate & Weather Averages in London</h3><div class=\"four columns\"><p><span class=light>High Temp: </span> 20&nbsp;°C</p><p><span class=light>Low Temp: </span> 11&nbsp;°C</p><p><span class=light>Mean Temp: </span> 16&nbsp;°C</p></div><div class=\"four columns\"><p><span class=light>Precipitation: </span> 41.2  mm</p><p><span class=light>Humidity: </span> 73%</p><p><span class=light>Dew Point: </span> 10&nbsp;°C</p></div><div class=\"four columns\"><p><span class=light>Wind: </span> 8 mph</p><p><span class=light>Pressure: </span> 1017 mbar</p><p><span class=light>Visibility: </span> 11&nbsp;km</p></div></div><div class=\"climate-month climate-month--october\"><h3 class=mgt0>October Climate & Weather Averages in London</h3><div class=\"four columns\"><p><span class=light>High Temp: </span> 16&nbsp;°C</p><p><span class=light>Low Temp: </span> 9&nbsp;°C</p><p><span class=light>Mean Temp: </span> 13&nbsp;°C</p></div><div class=\"four columns\"><p><span class=light>Precipitation: </span> 61.5  mm</p><p><span class=light>Humidity: </span> 78%</p><p><span class=light>Dew Point: </span> 9&nbsp;°C</p></div><div class=\"four columns\"><p><span class=light>Wind: </span> 8 mph</p><p><span class=light>Pressure: </span> 1015 mbar</p><p><span class=light>Visibility: </span> 10&nbsp;km</p></div></div><div class=\"climate-month climate-month--november\"><h3 class=mgt0>November Climate & Weather Averages in London</h3><div class=\"four columns\"><p><span class=light>High Temp: </span> 12&nbsp;°C</p><p><span class=light>Low Temp: </span> 6&nbsp;°C</p><p><span class=light>Mean Temp: </span> 9&nbsp;°C</p></div><div class=\"four columns\"><p><span class=light>Precipitation: </span> 72.0  mm</p><p><span class=light>Humidity: </span> 81%</p><p><span class=light>Dew Point: </span> 6&nbsp;°C</p></div><div class=\"four columns\"><p><span class=light>Wind: </span> 9 mph</p><p><span class=light>Pressure: </span> 1012 mbar</p><p><span class=light>Visibility: </span> 10&nbsp;km</p></div></div><div class=\"climate-month climate-month--december\"><h3 class=mgt0>December Climate & Weather Averages in London</h3><div class=\"four columns\"><p><span class=light>High Temp: </span> 9&nbsp;°C</p><p><span class=light>Low Temp: </span> 3&nbsp;°C</p><p><span class=light>Mean Temp: </span> 6&nbsp;°C</p></div><div class=\"four columns\"><p><span class=light>Precipitation: </span> 65.1  mm</p><p><span class=light>Humidity: </span> 81%</p><p><span class=light>Dew Point: </span> 3&nbsp;°C</p></div><div class=\"four columns\"><p><span class=light>Wind: </span> 10 mph</p><p><span class=light>Pressure: </span> 1015 mbar</p><p><span class=light>Visibility: </span> 10&nbsp;km</p></div></div></section></div></div><div class=\"four columns\">'"
   ]
  },
  {
   "cell_type": "code",
   "execution_count": 2,
   "metadata": {
    "collapsed": false
   },
   "outputs": [],
   "source": [
    "import re\n",
    "meanT=[string[m.start()+19:m.start()+21] for m in re.finditer('Mean Temp: </span> ', string)]\n",
    "meanP=[string[m.start()+18:m.start()+23] for m in re.finditer('Pressure: </span> ', string)]\n",
    "meanH=[string[m.start()+18:m.start()+20] for m in re.finditer('Humidity: </span> ', string)]\n"
   ]
  },
  {
   "cell_type": "code",
   "execution_count": null,
   "metadata": {
    "collapsed": false
   },
   "outputs": [],
   "source": []
  },
  {
   "cell_type": "code",
   "execution_count": 3,
   "metadata": {
    "collapsed": false
   },
   "outputs": [],
   "source": [
    "meanT = [int(i.replace('&',' ')) for i in meanT]\n",
    "meanP = [int(i) for i in meanP]\n",
    "meanH = [int(i) for i in meanH]"
   ]
  },
  {
   "cell_type": "code",
   "execution_count": 4,
   "metadata": {
    "collapsed": false
   },
   "outputs": [
    {
     "name": "stdout",
     "output_type": "stream",
     "text": [
      "[12, 6, 6, 8, 11, 14, 17, 19, 18, 16, 13, 9, 6] [1015, 1015, 1014, 1016, 1016, 1015, 1017, 1015, 1014, 1017, 1015, 1012, 1015] [73, 80, 77, 70, 65, 67, 65, 65, 69, 73, 78, 81, 81]\n"
     ]
    }
   ],
   "source": [
    "print(meanT, meanP, meanH)"
   ]
  },
  {
   "cell_type": "code",
   "execution_count": 5,
   "metadata": {
    "collapsed": true
   },
   "outputs": [],
   "source": [
    "import pandas as pd\n",
    "annualStats = pd.DataFrame([meanT, meanP, meanH]).T"
   ]
  },
  {
   "cell_type": "code",
   "execution_count": 6,
   "metadata": {
    "collapsed": false
   },
   "outputs": [],
   "source": [
    "annualStats.columns=['meanT', 'meanP', 'meanH']"
   ]
  },
  {
   "cell_type": "code",
   "execution_count": 7,
   "metadata": {
    "collapsed": false
   },
   "outputs": [
    {
     "data": {
      "text/html": [
       "<div>\n",
       "<table border=\"1\" class=\"dataframe\">\n",
       "  <thead>\n",
       "    <tr style=\"text-align: right;\">\n",
       "      <th></th>\n",
       "      <th>meanT</th>\n",
       "      <th>meanP</th>\n",
       "      <th>meanH</th>\n",
       "    </tr>\n",
       "  </thead>\n",
       "  <tbody>\n",
       "    <tr>\n",
       "      <th>0</th>\n",
       "      <td>12</td>\n",
       "      <td>1015</td>\n",
       "      <td>73</td>\n",
       "    </tr>\n",
       "    <tr>\n",
       "      <th>1</th>\n",
       "      <td>6</td>\n",
       "      <td>1015</td>\n",
       "      <td>80</td>\n",
       "    </tr>\n",
       "    <tr>\n",
       "      <th>2</th>\n",
       "      <td>6</td>\n",
       "      <td>1014</td>\n",
       "      <td>77</td>\n",
       "    </tr>\n",
       "    <tr>\n",
       "      <th>3</th>\n",
       "      <td>8</td>\n",
       "      <td>1016</td>\n",
       "      <td>70</td>\n",
       "    </tr>\n",
       "    <tr>\n",
       "      <th>4</th>\n",
       "      <td>11</td>\n",
       "      <td>1016</td>\n",
       "      <td>65</td>\n",
       "    </tr>\n",
       "    <tr>\n",
       "      <th>5</th>\n",
       "      <td>14</td>\n",
       "      <td>1015</td>\n",
       "      <td>67</td>\n",
       "    </tr>\n",
       "    <tr>\n",
       "      <th>6</th>\n",
       "      <td>17</td>\n",
       "      <td>1017</td>\n",
       "      <td>65</td>\n",
       "    </tr>\n",
       "    <tr>\n",
       "      <th>7</th>\n",
       "      <td>19</td>\n",
       "      <td>1015</td>\n",
       "      <td>65</td>\n",
       "    </tr>\n",
       "    <tr>\n",
       "      <th>8</th>\n",
       "      <td>18</td>\n",
       "      <td>1014</td>\n",
       "      <td>69</td>\n",
       "    </tr>\n",
       "    <tr>\n",
       "      <th>9</th>\n",
       "      <td>16</td>\n",
       "      <td>1017</td>\n",
       "      <td>73</td>\n",
       "    </tr>\n",
       "    <tr>\n",
       "      <th>10</th>\n",
       "      <td>13</td>\n",
       "      <td>1015</td>\n",
       "      <td>78</td>\n",
       "    </tr>\n",
       "    <tr>\n",
       "      <th>11</th>\n",
       "      <td>9</td>\n",
       "      <td>1012</td>\n",
       "      <td>81</td>\n",
       "    </tr>\n",
       "    <tr>\n",
       "      <th>12</th>\n",
       "      <td>6</td>\n",
       "      <td>1015</td>\n",
       "      <td>81</td>\n",
       "    </tr>\n",
       "  </tbody>\n",
       "</table>\n",
       "</div>"
      ],
      "text/plain": [
       "    meanT  meanP  meanH\n",
       "0      12   1015     73\n",
       "1       6   1015     80\n",
       "2       6   1014     77\n",
       "3       8   1016     70\n",
       "4      11   1016     65\n",
       "5      14   1015     67\n",
       "6      17   1017     65\n",
       "7      19   1015     65\n",
       "8      18   1014     69\n",
       "9      16   1017     73\n",
       "10     13   1015     78\n",
       "11      9   1012     81\n",
       "12      6   1015     81"
      ]
     },
     "execution_count": 7,
     "metadata": {},
     "output_type": "execute_result"
    }
   ],
   "source": [
    "annualStats"
   ]
  },
  {
   "cell_type": "code",
   "execution_count": 8,
   "metadata": {
    "collapsed": true
   },
   "outputs": [],
   "source": [
    "segment = 610040\n",
    "annualStats.to_pickle('/Users/Gavin/Gavin/jupyter/Strava/'+str(segment)+'_AnnualStats.pkl')"
   ]
  },
  {
   "cell_type": "code",
   "execution_count": null,
   "metadata": {
    "collapsed": true
   },
   "outputs": [],
   "source": []
  }
 ],
 "metadata": {
  "kernelspec": {
   "display_name": "Python [Root]",
   "language": "python",
   "name": "Python [Root]"
  },
  "language_info": {
   "codemirror_mode": {
    "name": "ipython",
    "version": 3
   },
   "file_extension": ".py",
   "mimetype": "text/x-python",
   "name": "python",
   "nbconvert_exporter": "python",
   "pygments_lexer": "ipython3",
   "version": "3.5.2"
  }
 },
 "nbformat": 4,
 "nbformat_minor": 0
}
