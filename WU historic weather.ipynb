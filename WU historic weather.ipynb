{
 "cells": [
  {
   "cell_type": "markdown",
   "metadata": {},
   "source": [
    "# Historic Weather from Weather Underground\n",
    "The purpose of this project is to use Weather Undergound's API to obtain historic data for a specified geographical location. The intention is to use this as the input for the existing AirDensity project and to improve this by taking account of altitude."
   ]
  },
  {
   "cell_type": "code",
   "execution_count": 1,
   "metadata": {},
   "outputs": [],
   "source": [
    "import pandas as pd\n",
    "\n",
    "\n",
    "def WUStats1(y=2015, m=6, d=9, lat=51.4775, lon=-0.461389, API_key = '4519864dc92d8fdb'):\n",
    "    \"\"\" This function takes a date and a geographic location\n",
    "    Using the Weather Underground API, it retrieves the daily summary data, \n",
    "    returning a list of mean temperature (C), pressure (mBar), humidity, dew point (C), windspeed (kph) and wind dirn (degrees)\"\"\"\n",
    "    \n",
    "    address = 'http://api.wunderground.com/api/{0}/history_{1}{2:02d}{3:02d}/q/{4},{5}.json'.format(API_key, y, m, d, lat, lon)\n",
    "    obs = pd.read_json(address)\n",
    "    try:        \n",
    "        o = obs.history.dailysummary[0]\n",
    "        stats = [o['meantempm'], o['meanpressurem'], o['humidity'], o['meandewptm'], o['meanwindspdm'], o['meanwdird']]\n",
    "    except:\n",
    "        o = obs.history.observations[0]\n",
    "        stats = [o['tempm'], o['pressurem'], o['hum'], o['dewptm'], o['wspdm'], o['wdird']]\n",
    "    return stats\n",
    "\n"
   ]
  },
  {
   "cell_type": "code",
   "execution_count": 2,
   "metadata": {},
   "outputs": [
    {
     "data": {
      "text/plain": [
       "['5', '1030.50', '97', '6', '9', '220']"
      ]
     },
     "execution_count": 2,
     "metadata": {},
     "output_type": "execute_result"
    }
   ],
   "source": [
    "WUStats1(2016, 12, 31)"
   ]
  },
  {
   "cell_type": "markdown",
   "metadata": {},
   "source": [
    "# Dealing with missing data\n",
    "A bit of experimenting reveals that sometimes you don't get any data. For example, Bracknell airport doesn't seem to record any weather data."
   ]
  },
  {
   "cell_type": "code",
   "execution_count": 3,
   "metadata": {},
   "outputs": [
    {
     "data": {
      "text/plain": [
       "['-9999', '-9999', 'N/A', '-9999', '-9999.0', '0']"
      ]
     },
     "execution_count": 3,
     "metadata": {},
     "output_type": "execute_result"
    }
   ],
   "source": [
    "WUStats1(2016, 12, 31,51.38000107, -0.77999997)"
   ]
  },
  {
   "cell_type": "markdown",
   "metadata": {},
   "source": [
    "In an attempt to ensure that something comes back, we can try looping down the first three on the list of nearby weather stations until we get something. I experimented with this in the following function, but it just ended up exceeding the permitted number of API calls within one minute and still failed to produce a single observation from any of the nearby weather stations. So the conclusion is that you can't rely on WU to deliver historic weather stats from a latitude and longitude."
   ]
  },
  {
   "cell_type": "code",
   "execution_count": 4,
   "metadata": {},
   "outputs": [],
   "source": [
    "import pandas as pd\n",
    "\n",
    "def WUStats2(y=2015, m=6, d=9, lat=51.4775, lon=-0.461389, API_key = '4519864dc92d8fdb'):\n",
    "    \"\"\" This function takes a date and a geographic location\n",
    "    Using the Weather Underground API, it retrieves the daily summary data, \n",
    "    returning a list of mean temperature (C), pressure (mBar), humidity, dew point (C), windspeed (kph) and wind dirn (degrees)\"\"\"\n",
    "    \n",
    "    # First obtain a list of the closest local weather stations, remove empty elements, select first 3 and last\n",
    "    address = 'http://api.wunderground.com/api/{0}/geolookup/q/{4},{5}.json'.format(API_key, y, m, d, lat, lon)\n",
    "    loc = pd.read_json(address)\n",
    "    nearby_weather_stations = loc.location['nearby_weather_stations']['airport']['station'] + loc.location['nearby_weather_stations']['pws']['station']\n",
    "    nearby_weather_stations = [n for n in nearby_weather_stations if n['lon']!='']\n",
    "    nearby_weather_stations = [nearby_weather_stations[i] for i in [0,1,2,3,-1]]\n",
    "   \n",
    "    stats = []\n",
    "    \n",
    "    while len(nearby_weather_stations)>0 and len(stats)==0:\n",
    "        nws = nearby_weather_stations.pop(0)\n",
    "        try:        \n",
    "            address = 'http://api.wunderground.com/api/{0}/history_{1}{2:02d}{3:02d}/q/{4},{5}.json'.format(API_key, y, m, d, nws['lat'], nws['lon'])\n",
    "            print(address)\n",
    "            obs = pd.read_json(address)\n",
    "            o = obs.history.dailysummary[0]\n",
    "            stats = [o['meantempm'], o['meanpressurem'], o['humidity'], o['meandewptm'], o['meanwindspdm'], o['meanwdird']]\n",
    "        except:\n",
    "            pass\n",
    "    return stats\n",
    "\n"
   ]
  },
  {
   "cell_type": "code",
   "execution_count": 5,
   "metadata": {},
   "outputs": [
    {
     "name": "stdout",
     "output_type": "stream",
     "text": [
      "http://api.wunderground.com/api/4519864dc92d8fdb/history_20161231/q/51.38000107,-0.77999997.json\n",
      "http://api.wunderground.com/api/4519864dc92d8fdb/history_20161231/q/51.27999878,-0.77999997.json\n"
     ]
    },
    {
     "data": {
      "text/plain": [
       "['5', '1030.88', '94', '6', '6', '241']"
      ]
     },
     "execution_count": 5,
     "metadata": {},
     "output_type": "execute_result"
    }
   ],
   "source": [
    "WUStats2(2016, 12, 31,51.38000107, -0.77999997)"
   ]
  },
  {
   "cell_type": "markdown",
   "metadata": {},
   "source": [
    "# Final solution\n",
    "I'm thinking that the only way around this is to use the closest large airport on this list https://raw.githubusercontent.com/jpatokal/openflights/master/data/airports.dat\n",
    "I have stored a local copy that could be put back onto the net somewhere\n"
   ]
  },
  {
   "cell_type": "code",
   "execution_count": 30,
   "metadata": {},
   "outputs": [],
   "source": [
    "import pandas as pd\n",
    "\n",
    "\n",
    "def getNearestBigAirportCoords(lat= 51.38000107, lon=-0.77999997):\n",
    "    \"\"\"This function uses a list of large airports to return the coordinates of the nearest\"\"\"\n",
    "    airports = pd.read_csv('airports.csv', header=None)\n",
    "    airports.columns = ['Number', 'Airport', 'Town', 'Country', 'IATA', 'ICAO', \n",
    "                        'Latitude', 'Longitude','N1', 'N2', 'TZ','Region','A1','A2']\n",
    "    airports['Distance'] = airports.apply(lambda obs: (obs.Latitude - lat)**2 + (obs.Longitude - lon)**2, axis=1)\n",
    "    return airports[airports.Distance==min(airports.Distance)][['Latitude','Longitude']].values[0]\n",
    "\n",
    "\n",
    "def WUStats(y=2015, m=6, d=9, lat=51.4775, lon=-0.461389, API_key = '4519864dc92d8fdb'):\n",
    "    \"\"\" This function takes a date and a geographic location\n",
    "    Using the Weather Underground API, it retrieves the daily summary data, \n",
    "    returning a list of mean temperature (C), pressure (mBar), humidity, dew point (C), windspeed (kph) and wind dirn (degrees)\n",
    "    If there's no data based on lat,lon coordinates, the find the nearest big airport\"\"\"\n",
    "    stats = ['-9999']\n",
    "    try:        \n",
    "        address = 'http://api.wunderground.com/api/{0}/history_{1}{2:02d}{3:02d}/q/{4},{5}.json'.format(API_key, y, m, d, lat, lon)\n",
    "        obs = pd.read_json(address)\n",
    "        o = obs.history.dailysummary[0]\n",
    "        stats = [o['meantempm'], o['meanpressurem'], o['humidity'], o['meandewptm'], o['meanwindspdm'], o['meanwdird']]\n",
    "    except:\n",
    "        pass\n",
    "    if stats[0] == '-9999' or min([len(s) for s in stats])==0:\n",
    "        try:\n",
    "            [lat, lon] = getNearestBigAirportCoords(lat, lon)\n",
    "            address = 'http://api.wunderground.com/api/{0}/history_{1}{2:02d}{3:02d}/q/{4},{5}.json'.format(API_key, y, m, d, lat, lon)\n",
    "            obs = pd.read_json(address)\n",
    "            o = obs.history.dailysummary[0]\n",
    "            stats = [o['meantempm'], o['meanpressurem'], o['humidity'], o['meandewptm'], o['meanwindspdm'], o['meanwdird']]\n",
    "        except:\n",
    "            pass\n",
    "    return stats\n",
    "\n",
    "\n",
    "\n"
   ]
  },
  {
   "cell_type": "code",
   "execution_count": 7,
   "metadata": {},
   "outputs": [
    {
     "name": "stdout",
     "output_type": "stream",
     "text": [
      "In spite of such tricks, there still seem to be locations that don't work\n",
      "['11', '1032.75', '57', '4', '15', '37']\n",
      "['-1', '1028.14', '76', '-4', '8', '1']\n"
     ]
    }
   ],
   "source": [
    "print(\"In spite of such tricks, there still seem to be locations that don't work\")\n",
    "print(WUStats())\n",
    "x=WUStats(2017, 1, 21, 45.4480, 6.9802)\n",
    "print(x)"
   ]
  },
  {
   "cell_type": "markdown",
   "metadata": {},
   "source": [
    "## Checking exactly how figures are reported on WU\n",
    "Just to check how weather reports are recorded, we compare Rodriguez Ballon airport at 2560m against Lima Collique airport at sea level. Admittedly these aren't very close, but they work OK for this test. "
   ]
  },
  {
   "cell_type": "code",
   "execution_count": 8,
   "metadata": {},
   "outputs": [
    {
     "name": "stdout",
     "output_type": "stream",
     "text": [
      "['14', '1028.08', '88', '10', '7', '262']\n",
      "['26', '1013.43', '63', '20', '7', '-1']\n"
     ]
    }
   ],
   "source": [
    "lat,lon = -16.30, -71.5\n",
    "getNearestBigAirportCoords(lat, lon)\n",
    "print(WUStats(2017,2,15,lat,lon))\n",
    "lat,lon = -12.0, -77.0\n",
    "getNearestBigAirportCoords(lat, lon)\n",
    "print(WUStats(2017,2,15,lat,lon))"
   ]
  },
  {
   "cell_type": "markdown",
   "metadata": {},
   "source": [
    "At 2560m, local pressure would be signficantly lower than the reported 1027.88, so this must be a sea level adjusted figure. A temperature variation of 6.5 degrees per 1000m, would make the sea level equivalent temperature of Rodriguez 30C which is comparable with the temperature in Lima."
   ]
  },
  {
   "cell_type": "code",
   "execution_count": 9,
   "metadata": {},
   "outputs": [
    {
     "name": "stdout",
     "output_type": "stream",
     "text": [
      "Elevation adjusted pressure 763.70 mBar\n",
      "Sea level temperature 30 C\n"
     ]
    }
   ],
   "source": [
    "Temp,Pressure,Elevation = 13,1027.88,2560\n",
    "g =  9.80665   # gravitational constant, m/sec^2\n",
    "M = 28.9644/1000    # molecular weight of dry air, kg/mol\n",
    "L =  6.5/1000  # temperature lapse rate, deg K/m\n",
    "R = 8.31432    # gas constant, J/ mol*deg K \n",
    "TempK = Temp + 273.15\n",
    "localP = Pressure * 100 * (TempK / (TempK + L * Elevation)) ** (g*M/(R*L)) # multiply by 100 to get kg/m^3 and adjust for elevation\n",
    "print('Elevation adjusted pressure {:.2f} mBar'.format(localP/100))\n",
    "print('Sea level temperature {:.0f} C'.format(Temp + L * Elevation))\n"
   ]
  },
  {
   "cell_type": "code",
   "execution_count": 10,
   "metadata": {
    "collapsed": true
   },
   "outputs": [],
   "source": [
    "(lat, lon) = (-25.967936772035277, 27.548840262591703)"
   ]
  },
  {
   "cell_type": "code",
   "execution_count": 11,
   "metadata": {},
   "outputs": [
    {
     "name": "stdout",
     "output_type": "stream",
     "text": [
      "['22', '1019.63', '55', '12', '10', '110']\n"
     ]
    }
   ],
   "source": [
    "print(WUStats(2018,1,28,lat,lon))\n"
   ]
  },
  {
   "cell_type": "code",
   "execution_count": 12,
   "metadata": {},
   "outputs": [],
   "source": [
    "import numpy as np"
   ]
  },
  {
   "cell_type": "code",
   "execution_count": 39,
   "metadata": {},
   "outputs": [
    {
     "name": "stdout",
     "output_type": "stream",
     "text": [
      "-11.944186734181727 10.37539408149027 ['26', '1009.57', '73', '22', '5', '288']\n",
      "80.5204672690499 10.37539408149027 ['-7', '1007.38', '65', '-11', '10', '-1']\n",
      "58.16743391812511 10.37539408149027 ['6', '1003.15', '79', '3', '32', '263']\n",
      "28.718144392194773 27.73883613574904 ['12', '1026.12', '48', '3', '4', '-1']\n",
      "-69.85828849171358 27.73883613574904 ['-9999']\n",
      "50.72338403774597 27.73883613574904 ['-3', '1027.63', '88', '-4', '5', '-1']\n",
      "-46.706832491958295 2.7395139783585734 ['23', '1012.50', '61', '15', '21', '208']\n",
      "24.410489385728468 2.7395139783585734 ['19', '1017.57', '27', '-4', '29', '68']\n",
      "-84.5657283260025 2.7395139783585734 ['-9999']\n"
     ]
    }
   ],
   "source": [
    "for lon in np.random.random_sample(3)*180-90:\n",
    "    for lat in np.random.random_sample(3)*180-90:\n",
    "        print(lat,lon,WUStats(2018,1,28,lat,lon))"
   ]
  },
  {
   "cell_type": "code",
   "execution_count": 40,
   "metadata": {},
   "outputs": [
    {
     "data": {
      "text/plain": [
       "array([17.91710091, 19.11109924])"
      ]
     },
     "execution_count": 40,
     "metadata": {},
     "output_type": "execute_result"
    }
   ],
   "source": [
    "getNearestBigAirportCoords(16.3388,18.0079)"
   ]
  },
  {
   "cell_type": "code",
   "execution_count": 32,
   "metadata": {},
   "outputs": [],
   "source": [
    "airports = pd.read_csv('airports.csv', header=None)\n",
    "airports.columns = ['Number', 'Airport', 'Town', 'Country', 'IATA', 'ICAO', 'Latitude', 'Longitude','N1', 'N2', 'TZ','Region','A1','A2']"
   ]
  },
  {
   "cell_type": "code",
   "execution_count": 38,
   "metadata": {},
   "outputs": [
    {
     "data": {
      "text/html": [
       "<div>\n",
       "<style scoped>\n",
       "    .dataframe tbody tr th:only-of-type {\n",
       "        vertical-align: middle;\n",
       "    }\n",
       "\n",
       "    .dataframe tbody tr th {\n",
       "        vertical-align: top;\n",
       "    }\n",
       "\n",
       "    .dataframe thead th {\n",
       "        text-align: right;\n",
       "    }\n",
       "</style>\n",
       "<table border=\"1\" class=\"dataframe\">\n",
       "  <thead>\n",
       "    <tr style=\"text-align: right;\">\n",
       "      <th></th>\n",
       "      <th>Number</th>\n",
       "      <th>Airport</th>\n",
       "      <th>Town</th>\n",
       "      <th>Country</th>\n",
       "      <th>IATA</th>\n",
       "      <th>ICAO</th>\n",
       "      <th>Latitude</th>\n",
       "      <th>Longitude</th>\n",
       "      <th>N1</th>\n",
       "      <th>N2</th>\n",
       "      <th>TZ</th>\n",
       "      <th>Region</th>\n",
       "      <th>A1</th>\n",
       "      <th>A2</th>\n",
       "    </tr>\n",
       "  </thead>\n",
       "  <tbody>\n",
       "    <tr>\n",
       "      <th>1963</th>\n",
       "      <td>2033</td>\n",
       "      <td>South Pole Station Airport</td>\n",
       "      <td>Stephen's Island</td>\n",
       "      <td>Antarctica</td>\n",
       "      <td>\\N</td>\n",
       "      <td>NZSP</td>\n",
       "      <td>-90.0</td>\n",
       "      <td>0.0</td>\n",
       "      <td>9300</td>\n",
       "      <td>12</td>\n",
       "      <td>U</td>\n",
       "      <td>Antarctica/South_Pole</td>\n",
       "      <td>airport</td>\n",
       "      <td>OurAirports</td>\n",
       "    </tr>\n",
       "  </tbody>\n",
       "</table>\n",
       "</div>"
      ],
      "text/plain": [
       "      Number                     Airport              Town     Country IATA  \\\n",
       "1963    2033  South Pole Station Airport  Stephen's Island  Antarctica   \\N   \n",
       "\n",
       "      ICAO  Latitude  Longitude    N1  N2 TZ                 Region       A1  \\\n",
       "1963  NZSP     -90.0        0.0  9300  12  U  Antarctica/South_Pole  airport   \n",
       "\n",
       "               A2  \n",
       "1963  OurAirports  "
      ]
     },
     "execution_count": 38,
     "metadata": {},
     "output_type": "execute_result"
    }
   ],
   "source": [
    "airports[(airports.Longitude==0)]"
   ]
  },
  {
   "cell_type": "code",
   "execution_count": 35,
   "metadata": {},
   "outputs": [
    {
     "data": {
      "text/plain": [
       "['23', '1012.50', '61', '15', '21', '208']"
      ]
     },
     "execution_count": 35,
     "metadata": {},
     "output_type": "execute_result"
    }
   ],
   "source": [
    "WUStats(2018,1,28,-33.90019989,  18.49830055)"
   ]
  },
  {
   "cell_type": "code",
   "execution_count": null,
   "metadata": {},
   "outputs": [],
   "source": []
  }
 ],
 "metadata": {
  "kernelspec": {
   "display_name": "Python [conda env:anaconda]",
   "language": "python",
   "name": "conda-env-anaconda-py"
  },
  "language_info": {
   "codemirror_mode": {
    "name": "ipython",
    "version": 3
   },
   "file_extension": ".py",
   "mimetype": "text/x-python",
   "name": "python",
   "nbconvert_exporter": "python",
   "pygments_lexer": "ipython3",
   "version": "3.6.5"
  }
 },
 "nbformat": 4,
 "nbformat_minor": 2
}
