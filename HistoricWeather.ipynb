{
 "cells": [
  {
   "cell_type": "markdown",
   "metadata": {},
   "source": [
    "# Download weather data\n",
    "Data source http://www.timeanddate.com/weather <br>\n",
    "Since the source data mentions a copyright, it is not reproduced. All figures are are calculations in the final function are based on interpolations.\n",
    "## Notes\n",
    "This function works for any town and country for which data is available on the timeanddate website. If successful, it returns a five-element list of tuples. The first row contains a tuple of headers ('Date', 'Period', 'Description', 'Temp C', 'TempLow C', 'Pressure mbar', 'WindSpeed mph', 'WindDirn', 'Humidity'). The four remaining entries provide the historic weather observations for four six hour periods during the day. The main periods of interest are morning and afternoon: '06:00 — 12:00' and '12:00 — 18:00'. If unsuccessful, the function prints \"No historic data\", probably due to the town/country not being in the database or the date being to far back in history.\n",
    "- Now discovered this method https://www.timeanddate.com/weather/@17.91710091,19.11109924/historic?month=6&year=2015"
   ]
  },
  {
   "cell_type": "code",
   "execution_count": 2,
   "metadata": {},
   "outputs": [
    {
     "name": "stdout",
     "output_type": "stream",
     "text": [
      "('Date', 'Period', 'Description', 'Temp C', 'TempLow C', 'Pressure mbar', 'WindSpeed mph', 'WindDirn', 'Humidity')\n",
      "(' 8 May 2012', '00:00 — 06:00', 'Light rain. Partly cloudy', '11', '10', '1008', '6.836', '180', '93')\n",
      "(' 8 May 2012', '06:00 — 12:00', 'Broken clouds', '13', '11', '1007', '6.214', '180', '84')\n",
      "(' 8 May 2012', '12:00 — 18:00', 'Broken clouds', '18', '14', '1006', '8.078', '230', '63')\n",
      "(' 8 May 2012', '18:00 — 00:00', 'Passing clouds', '17', '12', '1006', '7.457', '230', '66')\n",
      "('Date', 'Period', 'Description', 'Temp C', 'TempLow C', 'Pressure mbar', 'WindSpeed mph', 'WindDirn', 'Humidity')\n",
      "(' 8 May 2012', '00:00 — 06:00', 'Light rain. Partly cloudy', '11', '10', '1008', '6.836', '180', '93')\n",
      "(' 8 May 2012', '06:00 — 12:00', 'Broken clouds', '13', '11', '1007', '6.214', '180', '84')\n",
      "(' 8 May 2012', '12:00 — 18:00', 'Broken clouds', '18', '14', '1006', '8.078', '230', '63')\n",
      "(' 8 May 2012', '18:00 — 00:00', 'Passing clouds', '17', '12', '1006', '7.457', '230', '66')\n"
     ]
    }
   ],
   "source": [
    "import urllib.request\n",
    "import re\n",
    "import datetime\n",
    "import pandas as pd\n",
    "\n",
    "\n",
    "def historicWeatherTry(d=29, m=6, y=2015, town='', country='', lat='', lon=''):\n",
    "    \"\"\" Returns 4 historic weather observations for date, location and country or by lat, lon\"\"\"\n",
    "    \n",
    "    locStr = f'@{lat},{lon}' if (town=='') and (country=='') else f'{country.lower()}/{town.lower()}'\n",
    "    \n",
    "    tday = datetime.date.today()\n",
    "    yday = tday - datetime.timedelta(days=1)\n",
    "    if datetime.date(y,m,d) in [tday, yday]:    # Different link if date is today or yesterday\n",
    "        link = 'http://www.timeanddate.com/weather/'+ locStr +'/historic'\n",
    "    else:\n",
    "        link = 'http://www.timeanddate.com/weather/'+ locStr +'/historic?month=' + str(m) + '&year=' + str(y)\n",
    "\n",
    "    try:\n",
    "        f = urllib.request.urlopen(link)\n",
    "        myfile = f.read().decode(\"utf-8\")\n",
    "        f.close()\n",
    "\n",
    "        # Date padded with an initial space to prevent \"15 Jan\" and \"25 Jan\" being picked up by \" 5 Jan\"\n",
    "        dateString = datetime.date(y,m,d).strftime(\"X%d %B %Y\").replace('X0','X ').replace('X','')\n",
    "\n",
    "        # Tricky long regular express extracts, date, time period, description, temp, lowtemp, pressure, windSpeed, windDirn and humidity\n",
    "        pattern = '(' + dateString + ')' + ', (\\d+:\\d+ — \\d+:\\d+)\",\"icon\":(?:\\d+),\"desc\":\"(.*?)\\.\",\"temp\":(-?\\d+),\"templow\":(-?\\d+),\"baro\":(\\d+),\"wind\":(\\d+\\.\\d+),\"wd\":(\\d+),\"hum\":(\\d+)\\}'\n",
    "        match = re.findall(pattern, myfile[:])\n",
    "    except:\n",
    "        match=[]\n",
    "    if len(match)==0 :\n",
    "        print('No historic data available')\n",
    "    match = [('Date', 'Period', 'Description', 'Temp C', 'TempLow C','Pressure mbar','WindSpeed mph', 'WindDirn', 'Humidity')]+match\n",
    "    return match\n",
    "\n",
    "\n",
    "#************THIS IS WHERE YOU RUN INITIAL VERSION town country **********************\n",
    "weather = historicWeatherTry(d=8,m=5,y=2012,town='london',country='uk')\n",
    "\n",
    "#************PRINTING SAMPLE OUTPUT**********************\n",
    "for i in weather:\n",
    "    print(i)\n",
    "\n",
    "#************THIS IS WHERE YOU RUN INITIAL VERSION lat lon **********************\n",
    "weather = historicWeatherTry(d=8,m=5,y=2012,lat=51.5074,lon=0.1278)\n",
    "\n",
    "#************PRINTING SAMPLE OUTPUT**********************\n",
    "for i in weather:\n",
    "    print(i)\n",
    "\n"
   ]
  },
  {
   "cell_type": "markdown",
   "metadata": {},
   "source": [
    "\n"
   ]
  },
  {
   "cell_type": "code",
   "execution_count": 3,
   "metadata": {},
   "outputs": [
    {
     "name": "stdout",
     "output_type": "stream",
     "text": [
      "('Date', 'Period', 'Description', 'Temp C', 'TempLow C', 'Pressure mbar', 'WindSpeed mph', 'WindDirn', 'Humidity')\n",
      "('20 July 2017', '00:00 — 06:00', 'Light rain. Overcast', '23', '16', '1017', '7.457', '100', '67')\n",
      "('20 July 2017', '06:00 — 12:00', 'Passing clouds', '25', '16', '1016', '4.35', '0', '69')\n",
      "('20 July 2017', '12:00 — 18:00', 'Passing clouds', '30', '25', '1015', '6.836', '260', '38')\n",
      "('20 July 2017', '18:00 — 00:00', 'Passing clouds', '27', '20', '1015', '6.214', '0', '60')\n",
      "('Date', 'Period', 'Description', 'Temp C', 'TempLow C', 'Pressure mbar', 'WindSpeed mph', 'WindDirn', 'Humidity')\n",
      "('21 July 2017', '00:00 — 06:00', 'Passing clouds', '14', '13', '1010', '6.836', '170', '81')\n",
      "('21 July 2017', '06:00 — 12:00', 'Partly sunny', '21', '15', '1009', '14.914', '180', '62')\n",
      "('21 July 2017', '12:00 — 18:00', 'Partly sunny', '22', '20', '1007', '15.535', '180', '51')\n"
     ]
    }
   ],
   "source": [
    "Today = datetime.date.today()\n",
    "Yesterday = Today - datetime.timedelta(days=1)\n",
    "\n",
    "weather = historicWeatherTry(d=Yesterday.day, m=Yesterday.month, y=Yesterday.year,town='grenoble',country='france')\n",
    "for i in weather:\n",
    "    print(i)\n",
    "\n",
    "weather = historicWeatherTry(d=Today.day, m=Today.month, y=Today.year,town='london',country='uk')\n",
    "for i in weather:\n",
    "    print(i)\n"
   ]
  },
  {
   "cell_type": "markdown",
   "metadata": {},
   "source": [
    "There's a bit of a problem when the underlying data includes formatting errors and missing data, such as Madrid below. The only real way around this is to go bac to parsing the data as JSON rather than using regular expressions. "
   ]
  },
  {
   "cell_type": "code",
   "execution_count": 8,
   "metadata": {},
   "outputs": [
    {
     "name": "stdout",
     "output_type": "stream",
     "text": [
      "('Date', 'Period', 'Description', 'Temp C', 'TempLow C', 'Pressure mbar', 'WindSpeed mph', 'WindDirn', 'Humidity')\n",
      "('21 November 2016', '00:00 — 06:00', 'No weather data available\",\"baro\":0,\"wind\":0,\"wd\":0,\"hum\":0},{\"date\":1479708E6,\"ts\":\"06:00\",\"ds\":\"Monday, 21 November 2016, 06:00 — 12:00\",\"icon\":2,\"desc\":\"Overcast', '11', '10', '1001', '13.671', '220', '96')\n",
      "('21 November 2016', '12:00 — 18:00', 'Overcast', '13', '11', '1003', '12.428', '220', '74')\n",
      "('21 November 2016', '18:00 — 00:00', 'Low clouds', '11', '10', '1005', '9.321', '220', '74')\n"
     ]
    }
   ],
   "source": [
    "weather = historicWeatherTry(d=21,m=11,y=2016,town='madrid',country='spain')\n",
    "for i in weather:\n",
    "    print(i)\n"
   ]
  },
  {
   "cell_type": "markdown",
   "metadata": {},
   "source": [
    "This is the JSON format that needs to be manipulated. It requires a change to the regular expression, but in principal it is straightforward to pull it into a pandas dataframe."
   ]
  },
  {
   "cell_type": "code",
   "execution_count": 9,
   "metadata": {},
   "outputs": [
    {
     "name": "stdout",
     "output_type": "stream",
     "text": [
      "                     baro                     desc  \\\n",
      "date                                                 \n",
      "2016-11-12 12:00:00  1015  Drizzle. Mostly cloudy.   \n",
      "\n",
      "                                                            ds  hum  icon  \\\n",
      "date                                                                        \n",
      "2016-11-12 12:00:00  Saturday, 12 November 2016, 12:00 — 18:00   99    18   \n",
      "\n",
      "                     temp  templow     ts   wd   wind  \n",
      "date                                                   \n",
      "2016-11-12 12:00:00    10       10  12:00  150  3.728  \n"
     ]
    }
   ],
   "source": [
    "import json \n",
    "x = '{\"date\":1478952E6,\"ts\":\"12:00\",\"ds\":\"Saturday, 12 November 2016, 12:00 — 18:00\",\"icon\":18,\"desc\":\"Drizzle. Mostly cloudy.\",\"temp\":10,\"templow\":10,\"baro\":1015,\"wind\":3.728,\"wd\":150,\"hum\":99}'\n",
    "y = json.loads(x)\n",
    "\n",
    "df = pd.DataFrame.from_dict([y])\n",
    "df.date = pd.to_datetime(df.date*1e6)\n",
    "df.index = df.date\n",
    "df = df.drop('date', axis=1)\n",
    "print(df)\n",
    "\n"
   ]
  },
  {
   "cell_type": "markdown",
   "metadata": {},
   "source": [
    "# Scrape weather in JSON format\n",
    "This should be just a case of using a simpler different regular expression. Let's adjust the function using a different regular expression that spots the date and pulls in the rest of the data up to the next curly bracket\n"
   ]
  },
  {
   "cell_type": "code",
   "execution_count": null,
   "metadata": {},
   "outputs": [],
   "source": [
    "def historicWeather(d=29, m=6, y=2015, town='', country='', lat='', lon=''):\n",
    "    \"\"\" Returns (up to) 4 historic weather observations for date, location and country, as a list in JSON format\n",
    "    Note that pressure is in mbar, wind is in mph with direction as a bearning\"\"\"\n",
    "\n",
    "    locStr = f'@{lat},{lon}' if (town=='') and (country=='') else f'{country.lower()}/{town.lower()}'\n",
    "    \n",
    "    tday = datetime.date.today()\n",
    "    yday = tday - datetime.timedelta(days=1)\n",
    "\n",
    "    if datetime.date(y,m,d) in [tday, yday]:    # Different link if date is today or yesterday\n",
    "        link = 'http://www.timeanddate.com/weather/'+ locStr +'/historic'\n",
    "    else:\n",
    "        link = 'http://www.timeanddate.com/weather/'+ locStr +'/historic?month=' + str(m) + '&year=' + str(y)\n",
    "    \n",
    "    # Date padded with an initial space to prevent \"15 Jan\" and \"25 Jan\" being picked up by \" 5 Jan\"\n",
    "    #dateString = datetime.date(y,m,d).strftime(\"%A, X%d %B %Y\").replace('X0','X ').replace('X','')\n",
    "    dateString = datetime.date(y,m,d).strftime(\"%A, X%d %B %Y\").replace('X0','').replace('X','')\n",
    "\n",
    "    try:\n",
    "        f = urllib.request.urlopen(link)\n",
    "        myfile = f.read().decode(\"utf-8\")\n",
    "        f.close()\n",
    "\n",
    "        # Tricky long regular express extracts, date, time period, description, temp, lowtemp, pressure, windSpeed, windDirn and humidity\n",
    "        pattern = '(\"ts\":\"\\d{2}:00\",\"ds\":\"' + dateString + '[^\\}]*\\})'\n",
    "        match = re.findall(pattern, myfile[:])\n",
    "        match = ['{'+m for m in match]\n",
    "    except:\n",
    "        match = []\n",
    "        \n",
    "    if len(match)==0 :\n",
    "        print('No historic data available for '+dateString)\n",
    "        \n",
    "    return '['+','.join(match)+']'"
   ]
  },
  {
   "cell_type": "code",
   "execution_count": 4,
   "metadata": {},
   "outputs": [
    {
     "name": "stdout",
     "output_type": "stream",
     "text": [
      "[{\"ts\":\"00:00\",\"ds\":\"Tuesday, 29 November 2016, 00:00 — 06:00\",\"icon\":13,\"desc\":\"Clear.\",\"temp\":0,\"templow\":-4,\"baro\":1033,\"wind\":2.486,\"wd\":0,\"hum\":90},{\"ts\":\"06:00\",\"ds\":\"Tuesday, 29 November 2016, 06:00 — 12:00\",\"icon\":1,\"desc\":\"Sunny.\",\"temp\":6,\"templow\":-4,\"baro\":1034,\"wind\":3.728,\"wd\":10,\"hum\":86},{\"ts\":\"12:00\",\"ds\":\"Tuesday, 29 November 2016, 12:00 — 18:00\",\"icon\":1,\"desc\":\"Sunny.\",\"temp\":7,\"templow\":1,\"baro\":1034,\"wind\":4.971,\"wd\":60,\"hum\":52},{\"ts\":\"18:00\",\"ds\":\"Tuesday, 29 November 2016, 18:00 — 00:00\",\"icon\":13,\"desc\":\"Clear.\",\"temp\":-2,\"templow\":-4,\"baro\":1034,\"wind\":3.107,\"wd\":350,\"hum\":72}]\n",
      "[{\"ts\":\"00:00\",\"ds\":\"Tuesday, 29 November 2016, 00:00 — 06:00\",\"icon\":13,\"desc\":\"Clear.\",\"temp\":0,\"templow\":-4,\"baro\":1033,\"wind\":2.486,\"wd\":0,\"hum\":90},{\"ts\":\"06:00\",\"ds\":\"Tuesday, 29 November 2016, 06:00 — 12:00\",\"icon\":1,\"desc\":\"Sunny.\",\"temp\":6,\"templow\":-4,\"baro\":1034,\"wind\":3.728,\"wd\":10,\"hum\":86},{\"ts\":\"12:00\",\"ds\":\"Tuesday, 29 November 2016, 12:00 — 18:00\",\"icon\":1,\"desc\":\"Sunny.\",\"temp\":7,\"templow\":1,\"baro\":1034,\"wind\":4.971,\"wd\":60,\"hum\":52},{\"ts\":\"18:00\",\"ds\":\"Tuesday, 29 November 2016, 18:00 — 00:00\",\"icon\":13,\"desc\":\"Clear.\",\"temp\":-2,\"templow\":-4,\"baro\":1034,\"wind\":3.107,\"wd\":350,\"hum\":72}]\n"
     ]
    }
   ],
   "source": [
    "#************THIS IS WHERE YOU RUN IT**********************\n",
    "\n",
    "[y, m, d, h, mi, s, town, country, lat, lon] = [2016, 11, 29, 14, 0, 0, 'london', 'uk', 51.5074, 0.1278]\n",
    "#[y, m, d, h, mi, s, town, country] = [2009, 8, 22, 18, 0, 0, 'london', 'uk']      # No historic data\n",
    "\n",
    "weather = historicWeather(d=d, m=m, y=y, town=town, country=country)\n",
    "\n",
    "#************PRINTING SAMPLE OUTPUT**********************\n",
    "print(weather)\n",
    "\n",
    "weather = historicWeather(d=d, m=m, y=y, lat=lat, lon=lon)\n",
    "\n",
    "#************PRINTING SAMPLE OUTPUT**********************\n",
    "print(weather)"
   ]
  },
  {
   "cell_type": "markdown",
   "metadata": {},
   "source": [
    "# Pull weather into a pandas DataFrame\n",
    "Compare different ways of reading in the file. Either using json.loads() to create a list of dictionaries or pandas.read_json() to create a dataframe. Pandas is the most useful format for doing interpolation. Also need to work out what we mean by interpolation for wind direction that changes from 20 to 200, as reported for  11/11/16 in London. We are assuming the observation is an average for the next 6 hours, so interpolation will be using 03:00, 09:00, 15:00, 21:00."
   ]
  },
  {
   "cell_type": "code",
   "execution_count": 5,
   "metadata": {},
   "outputs": [
    {
     "data": {
      "text/html": [
       "<div>\n",
       "<style scoped>\n",
       "    .dataframe tbody tr th:only-of-type {\n",
       "        vertical-align: middle;\n",
       "    }\n",
       "\n",
       "    .dataframe tbody tr th {\n",
       "        vertical-align: top;\n",
       "    }\n",
       "\n",
       "    .dataframe thead th {\n",
       "        text-align: right;\n",
       "    }\n",
       "</style>\n",
       "<table border=\"1\" class=\"dataframe\">\n",
       "  <thead>\n",
       "    <tr style=\"text-align: right;\">\n",
       "      <th></th>\n",
       "      <th>Pressure</th>\n",
       "      <th>Humidity</th>\n",
       "      <th>Temp</th>\n",
       "      <th>WindDirn</th>\n",
       "      <th>Wind</th>\n",
       "    </tr>\n",
       "  </thead>\n",
       "  <tbody>\n",
       "    <tr>\n",
       "      <th>2016-11-29 03:00:00</th>\n",
       "      <td>1033</td>\n",
       "      <td>90</td>\n",
       "      <td>0</td>\n",
       "      <td>0</td>\n",
       "      <td>2.486</td>\n",
       "    </tr>\n",
       "    <tr>\n",
       "      <th>2016-11-29 09:00:00</th>\n",
       "      <td>1034</td>\n",
       "      <td>86</td>\n",
       "      <td>6</td>\n",
       "      <td>10</td>\n",
       "      <td>3.728</td>\n",
       "    </tr>\n",
       "    <tr>\n",
       "      <th>2016-11-29 15:00:00</th>\n",
       "      <td>1034</td>\n",
       "      <td>52</td>\n",
       "      <td>7</td>\n",
       "      <td>60</td>\n",
       "      <td>4.971</td>\n",
       "    </tr>\n",
       "    <tr>\n",
       "      <th>2016-11-29 21:00:00</th>\n",
       "      <td>1034</td>\n",
       "      <td>72</td>\n",
       "      <td>-2</td>\n",
       "      <td>350</td>\n",
       "      <td>3.107</td>\n",
       "    </tr>\n",
       "  </tbody>\n",
       "</table>\n",
       "</div>"
      ],
      "text/plain": [
       "                     Pressure  Humidity  Temp  WindDirn   Wind\n",
       "2016-11-29 03:00:00      1033        90     0         0  2.486\n",
       "2016-11-29 09:00:00      1034        86     6        10  3.728\n",
       "2016-11-29 15:00:00      1034        52     7        60  4.971\n",
       "2016-11-29 21:00:00      1034        72    -2       350  3.107"
      ]
     },
     "execution_count": 5,
     "metadata": {},
     "output_type": "execute_result"
    }
   ],
   "source": [
    "# Could use simple json.loads...\n",
    "#dd = json.loads(weather)     \n",
    "#print(dd)\n",
    "\n",
    "# ... but better to use more pleasing pandas.read_json\n",
    "def readWeather(weather,y,m,d):\n",
    "    dstr = '{:d}-{:02d}-{:02d} '.format(y,m,d)\n",
    "    try:\n",
    "        obs = pd.DataFrame\n",
    "        obs = pd.read_json(weather)\n",
    "        obs.index = pd.DatetimeIndex([dstr+i for i in obs.ts])\n",
    "        obs.index = obs.index + pd.DateOffset(hours=3)\n",
    "        obs.drop(['desc','icon','ts','ds','templow'], axis=1, inplace=True)\n",
    "    except:\n",
    "        obs = pd.DataFrame({'baro':1020,'hum':80,'temp':15,'wd':0,'wind':0},index=[dstr + \"03:00:00\"])\n",
    "    obs.columns = ['Pressure','Humidity','Temp','WindDirn','Wind']\n",
    "    return obs\n",
    "\n",
    "\n",
    "obs=readWeather(weather,y,m,d)\n",
    "obs"
   ]
  },
  {
   "cell_type": "markdown",
   "metadata": {},
   "source": [
    "Now it is time to interpolate between the available times to esimate the weather conditions at the time of the event (rTime). We are assuming the observation is an average for the next 6 hours, so interpolation will be using 03:00, 09:00, 15:00, 21:00. If the event is before 03:00 or after 21:00, we want to take the first or last observation, respectively. If it is between 03:00 and 21:00, we want to interpolate between two observations enclosing the event. <br>\n",
    "First we work out into which period the event falls and what proportion of the way through that period. The we define a weighting vector, assuming four periods existing. <br>\n",
    "Then it is necessary to build in a whole load of error handling for incomplete observations, particularly those for today.<br>\n",
    "### Trick for interpolating between wind directions\n",
    "The next cell demonstrates how to deal with annoying wind changes, such as from 340 to 040, where the difference between the bearings is greater than 180 degrees.\n"
   ]
  },
  {
   "cell_type": "code",
   "execution_count": 6,
   "metadata": {},
   "outputs": [
    {
     "name": "stdout",
     "output_type": "stream",
     "text": [
      "0 50.0\n",
      "60 80.0\n",
      "120 110.0\n",
      "180 140.0\n",
      "240 170.0\n",
      "300 20.0\n"
     ]
    }
   ],
   "source": [
    "# Trick for dealing with wind changes, unfortunately this needs to be included in all the error trapping in the next function\n",
    "a=100\n",
    "w=0.5\n",
    "for b in range(0,360,60):\n",
    "    t = w*a + (1-w)*b\n",
    "    if abs(a-b)>180:\n",
    "        t = (t + w *360)%360\n",
    "    print(b,t)"
   ]
  },
  {
   "cell_type": "markdown",
   "metadata": {},
   "source": [
    "## Function to interpolate between weather observations"
   ]
  },
  {
   "cell_type": "code",
   "execution_count": 7,
   "metadata": {},
   "outputs": [
    {
     "name": "stdout",
     "output_type": "stream",
     "text": [
      "Pressure    1034.0\n",
      "Humidity      58.0\n",
      "Temp           7.0\n",
      "WindDirn      52.0\n",
      "Wind           5.0\n",
      "Name: 2016-11-29 14:00:00, dtype: float64\n"
     ]
    }
   ],
   "source": [
    "def currentObs(eventDatetime, obs):\n",
    "    # First calculate ideal weighting vector that will work in the vast majority of cases\n",
    "    dTime = eventDatetime - datetime.datetime(eventDatetime.year,eventDatetime.month,eventDatetime.day,3,0,0) \n",
    "    [Tperiod, Tproportion] = [int((dTime.total_seconds()/3600)//6), (dTime.total_seconds()/3600)%6/6]\n",
    "    # Set up ideal weighting vector\n",
    "    w = [0,0,0,0]\n",
    "    if Tperiod == -1:\n",
    "        w = [1,0,0,0]\n",
    "    elif Tperiod == 3:\n",
    "        w = [0,0,0,1]\n",
    "    else:\n",
    "        w[Tperiod] = 1-Tproportion\n",
    "        w[Tperiod+1] = Tproportion\n",
    "    \n",
    "    # Now incorporate a whole load of error handling for incomplete observations, particularly those for today.\n",
    "    if len(obs) > 0:\n",
    "        if len(obs) == 1:\n",
    "            e = obs.iloc[0]\n",
    "        elif len(obs) == 2:\n",
    "            if w[0] == 0:\n",
    "                e = obs.iloc[1]\n",
    "            else:\n",
    "                e = w[0]*obs.iloc[0] + w[1]*obs.iloc[1]\n",
    "                # Wind adjustment\n",
    "                if abs(obs.iloc[0].WindDirn-obs.iloc[1].WindDirn)>180:\n",
    "                    e.WindDirn = (e.WindDirn + w[1]*360)%360\n",
    "        elif len(obs) == 3:\n",
    "            if w[3] > 0:\n",
    "                e = obs.iloc[2]\n",
    "            else:\n",
    "                e = w[0]*obs.iloc[0] + w[1]*obs.iloc[1] + w[2]*obs.iloc[2]\n",
    "                # Wind adjustment\n",
    "                if w[0]:\n",
    "                    if abs(obs.iloc[0].WindDirn-obs.iloc[1].WindDirn)>180:\n",
    "                        e.WindDirn = (e.WindDirn + w[1]*360)%360\n",
    "                else:\n",
    "                    if abs(obs.iloc[2].WindDirn-obs.iloc[1].WindDirn)>180:\n",
    "                        e.WindDirn = (e.WindDirn + w[1]*360)%360\n",
    "        else:\n",
    "            e = w[0]*obs.iloc[0] + w[1]*obs.iloc[1] + w[2]*obs.iloc[2] + w[3]*obs.iloc[3]\n",
    "            # Wind adjustment\n",
    "            if w[0]:\n",
    "                if abs(obs.iloc[0].WindDirn-obs.iloc[1].WindDirn)>180:\n",
    "                    e.WindDirn = (e.WindDirn + w[1]*360)%360\n",
    "            elif w[1]:\n",
    "                if abs(obs.iloc[2].WindDirn-obs.iloc[1].WindDirn)>180:\n",
    "                    e.WindDirn = (e.WindDirn + w[1]*360)%360\n",
    "            else:\n",
    "                if abs(obs.iloc[2].WindDirn-obs.iloc[3].WindDirn)>180:\n",
    "                    e.WindDirn = (e.WindDirn + w[2]*360)%360\n",
    "        e.name = eventDatetime\n",
    "        e = e.round(0)\n",
    "    return e\n",
    "\n",
    "T = datetime.datetime(y,m,d,h,mi,s)\n",
    "print(currentObs(T,obs))\n"
   ]
  },
  {
   "cell_type": "markdown",
   "metadata": {},
   "source": [
    "# Final complete function\n",
    "Take a date and a place, return weather observations.<br>\n",
    "We can run it over a range of dates and times and store the results in a dataframe.\n"
   ]
  },
  {
   "cell_type": "code",
   "execution_count": 13,
   "metadata": {},
   "outputs": [
    {
     "data": {
      "text/html": [
       "<div>\n",
       "<style scoped>\n",
       "    .dataframe tbody tr th:only-of-type {\n",
       "        vertical-align: middle;\n",
       "    }\n",
       "\n",
       "    .dataframe tbody tr th {\n",
       "        vertical-align: top;\n",
       "    }\n",
       "\n",
       "    .dataframe thead th {\n",
       "        text-align: right;\n",
       "    }\n",
       "</style>\n",
       "<table border=\"1\" class=\"dataframe\">\n",
       "  <thead>\n",
       "    <tr style=\"text-align: right;\">\n",
       "      <th></th>\n",
       "      <th>Humidity</th>\n",
       "      <th>Pressure</th>\n",
       "      <th>Temp</th>\n",
       "      <th>Wind</th>\n",
       "      <th>WindDirn</th>\n",
       "    </tr>\n",
       "  </thead>\n",
       "  <tbody>\n",
       "    <tr>\n",
       "      <th>2016-11-20 14:10:20</th>\n",
       "      <td>87.0</td>\n",
       "      <td>992.0</td>\n",
       "      <td>6.0</td>\n",
       "      <td>9.0</td>\n",
       "      <td>244.0</td>\n",
       "    </tr>\n",
       "    <tr>\n",
       "      <th>2016-11-21 14:10:20</th>\n",
       "      <td>90.0</td>\n",
       "      <td>986.0</td>\n",
       "      <td>12.0</td>\n",
       "      <td>13.0</td>\n",
       "      <td>156.0</td>\n",
       "    </tr>\n",
       "    <tr>\n",
       "      <th>2016-11-22 14:10:20</th>\n",
       "      <td>68.0</td>\n",
       "      <td>1003.0</td>\n",
       "      <td>12.0</td>\n",
       "      <td>12.0</td>\n",
       "      <td>200.0</td>\n",
       "    </tr>\n",
       "    <tr>\n",
       "      <th>2016-11-23 14:10:20</th>\n",
       "      <td>84.0</td>\n",
       "      <td>1018.0</td>\n",
       "      <td>10.0</td>\n",
       "      <td>9.0</td>\n",
       "      <td>29.0</td>\n",
       "    </tr>\n",
       "    <tr>\n",
       "      <th>2016-11-24 14:10:20</th>\n",
       "      <td>74.0</td>\n",
       "      <td>1023.0</td>\n",
       "      <td>10.0</td>\n",
       "      <td>17.0</td>\n",
       "      <td>49.0</td>\n",
       "    </tr>\n",
       "    <tr>\n",
       "      <th>2016-11-25 14:10:20</th>\n",
       "      <td>62.0</td>\n",
       "      <td>1021.0</td>\n",
       "      <td>11.0</td>\n",
       "      <td>14.0</td>\n",
       "      <td>39.0</td>\n",
       "    </tr>\n",
       "    <tr>\n",
       "      <th>2016-11-26 14:10:20</th>\n",
       "      <td>87.0</td>\n",
       "      <td>1020.0</td>\n",
       "      <td>8.0</td>\n",
       "      <td>6.0</td>\n",
       "      <td>19.0</td>\n",
       "    </tr>\n",
       "    <tr>\n",
       "      <th>2016-11-27 14:10:20</th>\n",
       "      <td>73.0</td>\n",
       "      <td>1025.0</td>\n",
       "      <td>8.0</td>\n",
       "      <td>8.0</td>\n",
       "      <td>30.0</td>\n",
       "    </tr>\n",
       "    <tr>\n",
       "      <th>2016-11-28 14:10:20</th>\n",
       "      <td>55.0</td>\n",
       "      <td>1031.0</td>\n",
       "      <td>8.0</td>\n",
       "      <td>12.0</td>\n",
       "      <td>81.0</td>\n",
       "    </tr>\n",
       "    <tr>\n",
       "      <th>2016-11-29 14:10:20</th>\n",
       "      <td>57.0</td>\n",
       "      <td>1034.0</td>\n",
       "      <td>7.0</td>\n",
       "      <td>5.0</td>\n",
       "      <td>53.0</td>\n",
       "    </tr>\n",
       "  </tbody>\n",
       "</table>\n",
       "</div>"
      ],
      "text/plain": [
       "                     Humidity  Pressure  Temp  Wind  WindDirn\n",
       "2016-11-20 14:10:20      87.0     992.0   6.0   9.0     244.0\n",
       "2016-11-21 14:10:20      90.0     986.0  12.0  13.0     156.0\n",
       "2016-11-22 14:10:20      68.0    1003.0  12.0  12.0     200.0\n",
       "2016-11-23 14:10:20      84.0    1018.0  10.0   9.0      29.0\n",
       "2016-11-24 14:10:20      74.0    1023.0  10.0  17.0      49.0\n",
       "2016-11-25 14:10:20      62.0    1021.0  11.0  14.0      39.0\n",
       "2016-11-26 14:10:20      87.0    1020.0   8.0   6.0      19.0\n",
       "2016-11-27 14:10:20      73.0    1025.0   8.0   8.0      30.0\n",
       "2016-11-28 14:10:20      55.0    1031.0   8.0  12.0      81.0\n",
       "2016-11-29 14:10:20      57.0    1034.0   7.0   5.0      53.0"
      ]
     },
     "execution_count": 13,
     "metadata": {},
     "output_type": "execute_result"
    }
   ],
   "source": [
    "def weatherObs(d=29, m=6, y=2015, h=14, mi=11, s=20, town='', country='', lat=0, lon=0):\n",
    "    T = datetime.datetime(y,m,d,h,mi,s)\n",
    "    weather = historicWeather(d=d, m=m, y=y, town=town, country=country, lat=lat, lon=lon)\n",
    "    obs = readWeather(weather,y=y,m=m,d=d)\n",
    "    return currentObs(T,obs)\n",
    "\n",
    "\n",
    "\n",
    "observations = pd.DataFrame()\n",
    "for day in range(20,30):    \n",
    "    [y, m, d, h, mi, s, town, country] = [2016, 11, day, 14, 10, 20, 'london', 'uk']\n",
    "    OBS = weatherObs(d=d, m=m, y=y, h=h, mi=mi, s=s, town=town, country=country)\n",
    "    observations = observations.append(OBS)\n",
    "\n",
    "#print('Weather for {:s}, {:s}\\n'.format(town,country), OBS.name, '\\n', OBS.to_string())\n",
    "observations\n"
   ]
  },
  {
   "cell_type": "code",
   "execution_count": 14,
   "metadata": {},
   "outputs": [
    {
     "name": "stdout",
     "output_type": "stream",
     "text": [
      "Pressure    1034.0\n",
      "Humidity      58.0\n",
      "Temp           7.0\n",
      "WindDirn      52.0\n",
      "Wind           5.0\n",
      "Name: 2016-11-29 14:00:00, dtype: float64 \n",
      " Air Density Hum =  1.2830656448677344\n",
      "\n",
      " Air Density DP =  1.2830286944872906\n",
      "\n",
      " Air Density @ 1000m =  1.1370379423811097\n"
     ]
    }
   ],
   "source": [
    "import AirDensity\n",
    "[y, m, d, h, mi, s, town, country, lat, lon] = [2016, 11, 29, 14, 0, 0, 'london', 'uk', 51.5074, 0.1278]\n",
    "OBS = weatherObs(d=d, m=m, y=y, h=h, mi=mi, s=s, lat=lat, lon=lon)\n",
    "print(OBS, '\\n Air Density Hum = ', AirDensity.rhoCalc(Pressure=OBS.Pressure, Temp=OBS.Temp, Humidity=OBS.Humidity))\n",
    "print('\\n Air Density DP = ', AirDensity.rhoCalc(Pressure=OBS.Pressure, Temp=OBS.Temp, DP=-0.5))\n",
    "print('\\n Air Density @ 1000m = ', AirDensity.rhoCalc(Pressure=OBS.Pressure, Temp=OBS.Temp, Humidity=OBS.Humidity, Elevation=1000))"
   ]
  },
  {
   "cell_type": "code",
   "execution_count": 16,
   "metadata": {},
   "outputs": [
    {
     "data": {
      "text/plain": [
       "Pressure    1027.0\n",
       "Humidity      86.0\n",
       "Temp           1.0\n",
       "WindDirn       6.0\n",
       "Wind           1.0\n",
       "Name: 2017-01-21 10:10:00, dtype: float64"
      ]
     },
     "execution_count": 16,
     "metadata": {},
     "output_type": "execute_result"
    }
   ],
   "source": [
    "weatherObs(d=21, m=1, y=2017, h=10, mi=10, s=0, town=\"lyon\", country='france')"
   ]
  },
  {
   "cell_type": "code",
   "execution_count": null,
   "metadata": {
    "collapsed": true
   },
   "outputs": [],
   "source": []
  }
 ],
 "metadata": {
  "anaconda-cloud": {},
  "kernelspec": {
   "display_name": "Python [conda env:anaconda]",
   "language": "python",
   "name": "conda-env-anaconda-py"
  },
  "language_info": {
   "codemirror_mode": {
    "name": "ipython",
    "version": 3
   },
   "file_extension": ".py",
   "mimetype": "text/x-python",
   "name": "python",
   "nbconvert_exporter": "python",
   "pygments_lexer": "ipython3",
   "version": "3.6.5"
  }
 },
 "nbformat": 4,
 "nbformat_minor": 2
}
