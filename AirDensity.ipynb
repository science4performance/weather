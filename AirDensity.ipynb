{
 "cells": [
  {
   "cell_type": "markdown",
   "metadata": {},
   "source": [
    "# Calculate Air Density for a time and place in the past\n",
    "\n",
    "In this notebook, we compare a couple of models of air density. Then create an air density function that takes pressure and temperature, together with either dew point on relative humidity. Next we use a function to scrape the weather for a historical time and place. The we combine these to obtain the corresponding air density. "
   ]
  },
  {
   "cell_type": "markdown",
   "metadata": {},
   "source": [
    "# Calculate Air Density\n",
    "Source : https://wahiduddin.net/calc/density_altitude.htm#b15 <br>\n",
    "First try compare the two models to calculate saturation vapour pressure, Es, in millibars at temperature T degrees C. "
   ]
  },
  {
   "cell_type": "code",
   "execution_count": 1,
   "metadata": {},
   "outputs": [
    {
     "data": {
      "image/png": "[encoded data removed]",
      "text/plain": [
       "<matplotlib.figure.Figure at 0x1117aaf60>"
      ]
     },
     "metadata": {},
     "output_type": "display_data"
    },
    {
     "name": "stdout",
     "output_type": "stream",
     "text": [
      "At temperature  15  Model 1 Es= 17.0435326061  Model 2 Es= 17.0522836608\n"
     ]
    }
   ],
   "source": [
    "import numpy as np\n",
    "import matplotlib.pylab as plt\n",
    "%matplotlib inline\n",
    "\n",
    "# Compare two formulae to calculate the saturation vapour pressure of water in air (mBar) at temperature where T  (degrees C)\n",
    "T=np.arange(-10,40)\n",
    "#Method 1\n",
    "eso=6.1078\n",
    "c0 = 0.99999683\n",
    "c1 = -0.90826951*10**-2\n",
    "c2 = 0.78736169*10**-4\n",
    "c3 = -0.61117958*10**-6\n",
    "c4 = 0.43884187*10**-8\n",
    "c5 = -0.29883885*10**-10\n",
    "c6 = 0.21874425*10**-12\n",
    "c7 = -0.17892321*10**-14\n",
    "c8 = 0.11112018*10**-16\n",
    "c9 = -0.30994571*10**-19\n",
    "Es1 = eso/(c0+T*(c1+T*(c2+T*(c3+T*(c4+T*(c5+T*(c6+T*(c7+T*(c8+T*c9)))))))))**8 \n",
    "\n",
    "# Method2\n",
    "c10 = 6.1078\n",
    "c11 = 7.5\n",
    "c12 = 237.3       \n",
    "Es2 = c10 * 10 **(c11*T/(c12+T)) \n",
    "\n",
    "plt.plot(T,Es1-Es2)\n",
    "plt.title('Difference in millibars between two models of \\n Saturation vapour pressure versus temperature')\n",
    "plt.show()\n",
    "\n",
    "Temp = 15+10\n",
    "print ('At temperature ',T[Temp],' Model 1 Es=',Es1[Temp],' Model 2 Es=',Es2[Temp])"
   ]
  },
  {
   "cell_type": "markdown",
   "metadata": {},
   "source": [
    "We quickly conclude that for relevant temperature ranges the simpler model is just as good as the complex one. So we run with the simpler one. <br>"
   ]
  },
  {
   "cell_type": "markdown",
   "metadata": {},
   "source": [
    "## First attempt to create a function\n",
    "Note that at dew point the vapour pressure of water equals the saturation vapour pressure Es = Vp. This is where relative humidity, hum, is 100%, because relative humidity is defined as Pv / Es. This means it is straightforward for the function to use relative humidity if the dew point temperature is not avaiable, or, if neither is supplied, assume that the relative humidity is 80%, which is around average for the UK."
   ]
  },
  {
   "cell_type": "code",
   "execution_count": 2,
   "metadata": {},
   "outputs": [
    {
     "name": "stdout",
     "output_type": "stream",
     "text": [
      "With DP supplied  1.2181679079620102 No DP supplied  1.2187779632747076 With hum supplied  1.2174881322047284\n"
     ]
    }
   ],
   "source": [
    "\n",
    "def rhoCalc1(Pressure=1020, Temp=15, DP=False, Humidity=False):\n",
    "    \"\"\" Takes pressure P in millibars (so multiply by 100 to get Pascals)\n",
    "    ambient temperature T and dew point DP in degrees C or and relative humidity where 80% entered as 80\n",
    "    Returns air density in kg/m^3 \"\"\" \n",
    "    Rd = 287.05  #J/(kg*degK)\n",
    "    Rv = 461.495 #J/(kg*degK)\n",
    "    c10 = 6.1078\n",
    "    c11 = 7.5\n",
    "    c12 = 237.3 \n",
    "    Es = c10 * 10 **(c11*Temp/(c12+Temp))   # Saturation Vapour Pressure\n",
    "    if not(isinstance(DP,bool)):\n",
    "        Pv = c10 * 10 **(c11*DP/(c12+DP)) # Vapour pressure at dew point\n",
    "    elif not(isinstance(Humidity,bool)):\n",
    "        if Humidity > 1: Humidity /= 100\n",
    "        Pv = Humidity * Es      # relativeHumidity is defined as Pv / Es\n",
    "    else:\n",
    "        Pv = 0.8 * Es      # Average relative humidity in the UK is 80%\n",
    "    \n",
    "    airDensity =  Pressure*100/Rd/(Temp+273.15)*(1-Pv/Pressure*(1-Rd/Rv))\n",
    "    return airDensity\n",
    "\n",
    "print('With DP supplied ',rhoCalc1(Pressure=1013.25, Temp=15, DP=13), 'No DP supplied ',rhoCalc1(1013.25, 15), \\\n",
    "      'With hum supplied ',rhoCalc1(Pressure=1013.15, Temp=15, Humidity=95),)"
   ]
  },
  {
   "cell_type": "code",
   "execution_count": 3,
   "metadata": {},
   "outputs": [
    {
     "name": "stdout",
     "output_type": "stream",
     "text": [
      "1.3187479049811526 1.3172756345770151 1.3158033641728772\n"
     ]
    }
   ],
   "source": [
    "print(rhoCalc1(1034,0,Humidity=0), rhoCalc1(1034,0,Humidity=50), rhoCalc1(1034,0,Humidity=100))"
   ]
  },
  {
   "cell_type": "markdown",
   "metadata": {},
   "source": [
    "# Final version of function with altitude adjustment\n",
    "Final version of function adjusts the sea level pressure reported by weather agencies to local pressure at specified elevation. So, to be clear, we use sea level pressure, but local temperature, humidity and elevation. The sea level pressure is converted to local pressure based on the temperature difference between local elevation and that at sea level (ignoring variations in g for altitude)."
   ]
  },
  {
   "cell_type": "code",
   "execution_count": null,
   "metadata": {},
   "outputs": [],
   "source": [
    "def rhoCalc(Pressure=1020, Temp=15, DP=False, Humidity=False, Elevation=0):\n",
    "    \"\"\" Takes pressure P in millibars (so multiply by 100 to get Pascals)\n",
    "    ambient temperature T and dew point DP in degrees C and/or relative humidity where 80% entered as 80\n",
    "    and elevation  in m\n",
    "    Returns air density in kg/m^3 \"\"\" \n",
    "    Rd = 287.05  #J/(kg*degK)\n",
    "    Rv = 461.495 #J/(kg*degK)\n",
    "    c10 = 6.1078\n",
    "    c11 = 7.5\n",
    "    c12 = 237.3\n",
    "    g =  9.80665   # gravitational constant, m/sec^2\n",
    "    M = 28.9644/1000    # molecular weight of dry air, kg/mol\n",
    "    L =  6.5/1000  # temperature lapse rate, deg K/m\n",
    "    R = 8.31432    # gas constant, J/ (mol*deg K) \n",
    "    Es = 100 * c10 * 10 **(c11*Temp/(c12+Temp))   # Saturation Vapour Pressure in kg/m^3\n",
    "    if not(isinstance(DP,bool)):\n",
    "        Pv = 100 * c10 * 10 **(c11*DP/(c12+DP)) # Vapour pressure at dew point in kg/m^3\n",
    "    elif not(isinstance(Humidity,bool)):\n",
    "        if Humidity > 1: Humidity /= 100\n",
    "        Pv = Humidity * Es      # relativeHumidity is defined as Pv / Es\n",
    "    else:\n",
    "        Pv = 0.8 * Es      # Average relative humidity in the UK is 80%\n",
    "    TempK = Temp + 273.15\n",
    "    localP = Pressure * 100 * (TempK / (TempK + L * Elevation)) ** (g*M/(R*L)) # multiply by 100 to get kg/m^3 and adjust for elevation\n",
    "    \n",
    "    airDensity =  localP  / Rd / TempK * (1-Pv/localP*(1-Rd/Rv))\n",
    "    return airDensity"
   ]
  },
  {
   "cell_type": "code",
   "execution_count": 4,
   "metadata": {},
   "outputs": [
    {
     "name": "stdout",
     "output_type": "stream",
     "text": [
      "With DP supplied  1.2181679079620102 No DP supplied  1.2187779632747076 With hum supplied  1.2176090315154602 At 1000m 1.08208475667082\n"
     ]
    }
   ],
   "source": [
    "print('With DP supplied ',rhoCalc(Pressure=1013.25, Temp=15, DP=13), 'No DP supplied ',rhoCalc(1013.25, 15), \\\n",
    "      'With hum supplied ',rhoCalc(Pressure=1013.25, Temp=15, Humidity=95), 'At 1000m', rhoCalc(Pressure=1013.25, Temp=15, Humidity=95, Elevation = 1000))"
   ]
  },
  {
   "cell_type": "code",
   "execution_count": 5,
   "metadata": {},
   "outputs": [
    {
     "name": "stdout",
     "output_type": "stream",
     "text": [
      "Elevation adjusted pressure 901.15 mBar\n"
     ]
    }
   ],
   "source": [
    "Temp,Pressure,Elevation = 15,1013.25,1000\n",
    "g =  9.80665   # gravitational constant, m/sec^2\n",
    "M = 28.9644/1000    # molecular weight of dry air, kg/mol\n",
    "L =  6.5/1000  # temperature lapse rate, deg K/m\n",
    "R = 8.31432    # gas constant, J/ mol*deg K \n",
    "TempK = Temp + 273.15\n",
    "localP = Pressure * 100 * (TempK / (TempK + L * Elevation)) ** (g*M/(R*L)) # multiply by 100 to get kg/m^3 and adjust for elevation\n",
    "print('Elevation adjusted pressure {:.2f} mBar'.format(localP/100))\n"
   ]
  },
  {
   "cell_type": "markdown",
   "metadata": {},
   "source": [
    "# Also tried a few other online sources that didn't seem to work"
   ]
  },
  {
   "cell_type": "code",
   "execution_count": 6,
   "metadata": {},
   "outputs": [
    {
     "ename": "ModuleNotFoundError",
     "evalue": "No module named 'metoffer'",
     "output_type": "error",
     "traceback": [
      "\u001b[0;31m---------------------------------------------------------------------------\u001b[0m",
      "\u001b[0;31mModuleNotFoundError\u001b[0m                       Traceback (most recent call last)",
      "\u001b[0;32m<ipython-input-6-452cea31f373>\u001b[0m in \u001b[0;36m<module>\u001b[0;34m()\u001b[0m\n\u001b[0;32m----> 1\u001b[0;31m \u001b[0;32mimport\u001b[0m \u001b[0mmetoffer\u001b[0m\u001b[0;34m\u001b[0m\u001b[0m\n\u001b[0m\u001b[1;32m      2\u001b[0m \u001b[0mapi_key\u001b[0m \u001b[0;34m=\u001b[0m \u001b[0;34m'd4339fa7-64f7-4139-a378-cd7546262a89'\u001b[0m\u001b[0;34m\u001b[0m\u001b[0m\n\u001b[1;32m      3\u001b[0m \u001b[0mM\u001b[0m \u001b[0;34m=\u001b[0m \u001b[0mmetoffer\u001b[0m\u001b[0;34m.\u001b[0m\u001b[0mMetOffer\u001b[0m\u001b[0;34m(\u001b[0m\u001b[0mapi_key\u001b[0m\u001b[0;34m)\u001b[0m\u001b[0;34m\u001b[0m\u001b[0m\n\u001b[1;32m      4\u001b[0m \u001b[0mx\u001b[0m\u001b[0;34m=\u001b[0m \u001b[0mmetoffer\u001b[0m\u001b[0;34m.\u001b[0m\u001b[0mget_nearest_site\u001b[0m\u001b[0;34m(\u001b[0m \u001b[0mlon\u001b[0m\u001b[0;34m=\u001b[0m\u001b[0;34m-\u001b[0m\u001b[0;36m0.3375\u001b[0m\u001b[0;34m,\u001b[0m\u001b[0mlat\u001b[0m\u001b[0;34m=\u001b[0m\u001b[0;36m51.4033\u001b[0m\u001b[0;34m,\u001b[0m\u001b[0msites\u001b[0m\u001b[0;34m=\u001b[0m\u001b[0;36m1\u001b[0m\u001b[0;34m)\u001b[0m\u001b[0;34m\u001b[0m\u001b[0m\n\u001b[1;32m      5\u001b[0m \u001b[0mprint\u001b[0m\u001b[0;34m(\u001b[0m\u001b[0mx\u001b[0m\u001b[0;34m)\u001b[0m\u001b[0;34m\u001b[0m\u001b[0m\n",
      "\u001b[0;31mModuleNotFoundError\u001b[0m: No module named 'metoffer'"
     ]
    }
   ],
   "source": [
    "import metoffer\n",
    "api_key = 'd4339fa7-64f7-4139-a378-cd7546262a89'\n",
    "M = metoffer.MetOffer(api_key)\n",
    "x= metoffer.get_nearest_site( lon=-0.3375,lat=51.4033,sites=1)\n",
    "print(x)\n",
    "#x = M.nearest_loc_forecast(51.4033, -0.3375, metoffer.THREE_HOURLY)\n"
   ]
  },
  {
   "cell_type": "code",
   "execution_count": 7,
   "metadata": {},
   "outputs": [
    {
     "ename": "ModuleNotFoundError",
     "evalue": "No module named 'datapoint'",
     "output_type": "error",
     "traceback": [
      "\u001b[0;31m---------------------------------------------------------------------------\u001b[0m",
      "\u001b[0;31mModuleNotFoundError\u001b[0m                       Traceback (most recent call last)",
      "\u001b[0;32m<ipython-input-7-28a6cc9df2f2>\u001b[0m in \u001b[0;36m<module>\u001b[0;34m()\u001b[0m\n\u001b[1;32m      1\u001b[0m \u001b[0;34m\u001b[0m\u001b[0m\n\u001b[0;32m----> 2\u001b[0;31m \u001b[0;32mimport\u001b[0m \u001b[0mdatapoint\u001b[0m\u001b[0;34m\u001b[0m\u001b[0m\n\u001b[0m\u001b[1;32m      3\u001b[0m \u001b[0mapi_key\u001b[0m \u001b[0;34m=\u001b[0m \u001b[0;34m'd4339fa7-64f7-4139-a378-cd7546262a89'\u001b[0m\u001b[0;34m\u001b[0m\u001b[0m\n\u001b[1;32m      4\u001b[0m \u001b[0mconn\u001b[0m \u001b[0;34m=\u001b[0m \u001b[0mdatapoint\u001b[0m\u001b[0;34m.\u001b[0m\u001b[0mconnection\u001b[0m\u001b[0;34m(\u001b[0m\u001b[0mapi_key\u001b[0m\u001b[0;34m=\u001b[0m\u001b[0mapi_key\u001b[0m\u001b[0;34m)\u001b[0m\u001b[0;34m\u001b[0m\u001b[0m\n\u001b[1;32m      5\u001b[0m \u001b[0msite\u001b[0m \u001b[0;34m=\u001b[0m \u001b[0mconn\u001b[0m\u001b[0;34m.\u001b[0m\u001b[0mget_nearest_site\u001b[0m\u001b[0;34m(\u001b[0m\u001b[0;34m-\u001b[0m\u001b[0;36m0.3375\u001b[0m\u001b[0;34m,\u001b[0m \u001b[0;36m51.4033\u001b[0m\u001b[0;34m)\u001b[0m\u001b[0;34m\u001b[0m\u001b[0m\n",
      "\u001b[0;31mModuleNotFoundError\u001b[0m: No module named 'datapoint'"
     ]
    }
   ],
   "source": [
    "\n",
    "import datapoint\n",
    "api_key = 'd4339fa7-64f7-4139-a378-cd7546262a89'\n",
    "conn = datapoint.connection(api_key=api_key)\n",
    "site = conn.get_nearest_site(-0.3375, 51.4033)\n",
    "print (site.name)\n",
    "\n",
    "# Get a forecast for the nearest site\n",
    "forecast = conn.get_forecast_for_site(site.id, \"3hourly\")\n",
    "\n",
    "# Loop through days and print date\n",
    "for day in forecast.days:\n",
    "    print (\"\\n%s\" % day.date)\n",
    "\n",
    "    # Loop through time steps and print out info\n",
    "    for timestep in day.timesteps:\n",
    "        print (timestep.date)\n",
    "        print (timestep.weather.text)\n",
    "        print (\"%s%s%s\" % (timestep.temperature.value,\n",
    "                          u'\\xb0', #Unicode character for degree symbol\n",
    "                          timestep.temperature.units))"
   ]
  },
  {
   "cell_type": "code",
   "execution_count": 8,
   "metadata": {},
   "outputs": [
    {
     "ename": "NameError",
     "evalue": "name 'site' is not defined",
     "output_type": "error",
     "traceback": [
      "\u001b[0;31m---------------------------------------------------------------------------\u001b[0m",
      "\u001b[0;31mNameError\u001b[0m                                 Traceback (most recent call last)",
      "\u001b[0;32m<ipython-input-8-68076d30bb9a>\u001b[0m in \u001b[0;36m<module>\u001b[0;34m()\u001b[0m\n\u001b[0;32m----> 1\u001b[0;31m \u001b[0msite\u001b[0m\u001b[0;34m.\u001b[0m\u001b[0mid\u001b[0m\u001b[0;34m\u001b[0m\u001b[0m\n\u001b[0m",
      "\u001b[0;31mNameError\u001b[0m: name 'site' is not defined"
     ]
    }
   ],
   "source": [
    "site.id"
   ]
  },
  {
   "cell_type": "markdown",
   "metadata": {},
   "source": [
    "Sample web address\n",
    "http://datapoint.metoffice.gov.uk/public/data/val/wxfcs/all/xml/351747?res=3hourly&key=d4339fa7-64f7-4139-a378-cd7546262a89\n"
   ]
  },
  {
   "cell_type": "code",
   "execution_count": 9,
   "metadata": {},
   "outputs": [],
   "source": [
    "# Import JSON version\n",
    "import pandas as pd\n",
    "xx=pd.read_json('http://datapoint.metoffice.gov.uk/public/data/val/wxfcs/all/json/351747?res=3hourly&key=d4339fa7-64f7-4139-a378-cd7546262a89')"
   ]
  },
  {
   "cell_type": "code",
   "execution_count": 10,
   "metadata": {},
   "outputs": [
    {
     "ename": "NameError",
     "evalue": "name 'rhoCalcE' is not defined",
     "output_type": "error",
     "traceback": [
      "\u001b[0;31m---------------------------------------------------------------------------\u001b[0m",
      "\u001b[0;31mNameError\u001b[0m                                 Traceback (most recent call last)",
      "\u001b[0;32m<ipython-input-10-f7fddc6ab5c2>\u001b[0m in \u001b[0;36m<module>\u001b[0;34m()\u001b[0m\n\u001b[0;32m----> 1\u001b[0;31m \u001b[0mrhoCalcE\u001b[0m\u001b[0;34m(\u001b[0m\u001b[0mPressure\u001b[0m\u001b[0;34m=\u001b[0m\u001b[0;36m1013.25\u001b[0m\u001b[0;34m,\u001b[0m \u001b[0mTemp\u001b[0m\u001b[0;34m=\u001b[0m\u001b[0;36m13\u001b[0m\u001b[0;34m,\u001b[0m \u001b[0mHumidity\u001b[0m\u001b[0;34m=\u001b[0m\u001b[0;36m0\u001b[0m\u001b[0;34m,\u001b[0m \u001b[0mElevation\u001b[0m\u001b[0;34m=\u001b[0m\u001b[0;36m0\u001b[0m\u001b[0;34m)\u001b[0m\u001b[0;34m\u001b[0m\u001b[0m\n\u001b[0m",
      "\u001b[0;31mNameError\u001b[0m: name 'rhoCalcE' is not defined"
     ]
    }
   ],
   "source": [
    "rhoCalcE(Pressure=1013.25, Temp=13, Humidity=0, Elevation=0)"
   ]
  },
  {
   "cell_type": "code",
   "execution_count": 11,
   "metadata": {},
   "outputs": [
    {
     "ename": "NameError",
     "evalue": "name 'rhoCalcE' is not defined",
     "output_type": "error",
     "traceback": [
      "\u001b[0;31m---------------------------------------------------------------------------\u001b[0m",
      "\u001b[0;31mNameError\u001b[0m                                 Traceback (most recent call last)",
      "\u001b[0;32m<ipython-input-11-9f95a1001754>\u001b[0m in \u001b[0;36m<module>\u001b[0;34m()\u001b[0m\n\u001b[0;32m----> 1\u001b[0;31m \u001b[0mrhoCalcE\u001b[0m\u001b[0;34m(\u001b[0m\u001b[0mPressure\u001b[0m\u001b[0;34m=\u001b[0m\u001b[0;36m1019.3\u001b[0m\u001b[0;34m,\u001b[0m \u001b[0mTemp\u001b[0m\u001b[0;34m=\u001b[0m\u001b[0;36m24\u001b[0m\u001b[0;34m,\u001b[0m \u001b[0mHumidity\u001b[0m\u001b[0;34m=\u001b[0m\u001b[0;36m0\u001b[0m\u001b[0;34m,\u001b[0m \u001b[0mElevation\u001b[0m\u001b[0;34m=\u001b[0m\u001b[0;36m2000\u001b[0m\u001b[0;34m)\u001b[0m\u001b[0;34m\u001b[0m\u001b[0m\n\u001b[0m",
      "\u001b[0;31mNameError\u001b[0m: name 'rhoCalcE' is not defined"
     ]
    }
   ],
   "source": [
    "rhoCalcE(Pressure=1019.3, Temp=24, Humidity=0, Elevation=2000)"
   ]
  },
  {
   "cell_type": "markdown",
   "metadata": {},
   "source": [
    "\n"
   ]
  },
  {
   "cell_type": "code",
   "execution_count": null,
   "metadata": {},
   "outputs": [],
   "source": [
    "x,y,z=False,0,.5\n",
    "x==0.0"
   ]
  },
  {
   "cell_type": "code",
   "execution_count": null,
   "metadata": {},
   "outputs": [],
   "source": [
    "print(rhoCalcE(1013,15,Humidity=0,Elevation=0), rhoCalcE(1013,15-10*6.5,Humidity=0,Elevation=10000), rhoCalcE(1013,15-2*6.5,Humidity=0,Elevation=2000))"
   ]
  },
  {
   "cell_type": "code",
   "execution_count": 12,
   "metadata": {},
   "outputs": [
    {
     "name": "stdout",
     "output_type": "stream",
     "text": [
      "1.2465437300140692\n"
     ]
    }
   ],
   "source": [
    "print(rhoCalc(996,4,Humidity=100,Elevation=10))"
   ]
  },
  {
   "cell_type": "code",
   "execution_count": null,
   "metadata": {
    "collapsed": true
   },
   "outputs": [],
   "source": []
  }
 ],
 "metadata": {
  "anaconda-cloud": {},
  "kernelspec": {
   "display_name": "Python [default]",
   "language": "python",
   "name": "python3"
  },
  "language_info": {
   "codemirror_mode": {
    "name": "ipython",
    "version": 3
   },
   "file_extension": ".py",
   "mimetype": "text/x-python",
   "name": "python",
   "nbconvert_exporter": "python",
   "pygments_lexer": "ipython3",
   "version": "3.6.5"
  }
 },
 "nbformat": 4,
 "nbformat_minor": 2
}
